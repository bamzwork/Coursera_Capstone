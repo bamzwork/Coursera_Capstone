{
 "cells": [
  {
   "cell_type": "markdown",
   "metadata": {},
   "source": [
    "# Capstone Project - The Battle of Neighborhoods (Week 1)\n",
    "## 1. Project Proposal\n"
   ]
  },
  {
   "cell_type": "markdown",
   "metadata": {},
   "source": [
    "### 1.1 Background"
   ]
  },
  {
   "cell_type": "markdown",
   "metadata": {},
   "source": [
    "WIth the increasing usage of social media, cafe are gaining popularity with the younger population. Being the city with the youngest population in Canada and coupled with a large population, **Calgary** will be the city of interest for this capstone project. For the stakeholders who wish to ride on the trend and open a cafe, this project will provide insights on prime location that can attract influencers and youngsters to the cafe in Calgary.\n",
    "\n",
    "The objective of this capstone project is to assit stakeholders in their search for the optimal location for a instagramable cafe through exploring the various neighbourhoods in Calgary. As the young population are our main targeted crowd, the ideal neighbourhood include areas that are popular with the young population such as **malls**, **bowling alley**, **movie theatres** and **parks**. Also, it will be best if the cafe can be situated in a vincinity with low number of **cafe/coffee shops**."
   ]
  },
  {
   "cell_type": "markdown",
   "metadata": {},
   "source": [
    "### 1.2 Problem"
   ]
  },
  {
   "cell_type": "markdown",
   "metadata": {},
   "source": [
    "This capstone project aims to suggest an optimal location for the setup of a cafe in Calgary that has younger crowds. Hence the deciding factors of the neighbourhood should include: \n",
    "\n",
    "1. Number of competitors (cafes and coffee shops) witnin the vincinity\n",
    "2. Number of entertainment outlets (malls, bowling alley and movie theatres) and parks in the neighbourhood"
   ]
  },
  {
   "cell_type": "markdown",
   "metadata": {},
   "source": [
    "### 2. Data Description"
   ]
  },
  {
   "cell_type": "markdown",
   "metadata": {},
   "source": [
    "We will extract the the geocoordinates of the various neighbourhoods of Calgary, Alberta from https://en.wikipedia.org/wiki/List_of_postal_codes_of_Canada:_T by webscrapping. Information such as postal codes, community name, neighbourhood name, latitude and longitude will be scrapped and store in a dataframe using Pandas.\n",
    "\n",
    "For each neighbourhood, we will retrieve the following information through Foursquare API:\n",
    "1. Neighbourhood Names\n",
    "2. Neighbourhood latitudes and longitudes\n",
    "3. List of competitors with geocodes (category: cafes and coffee shops)\n",
    "4. List of entertainment oultets and parks with geocodes (Category: malls, bowling alley, movie theatres, parks)"
   ]
  }
 ],
 "metadata": {
  "kernelspec": {
   "display_name": "Python 3",
   "language": "python",
   "name": "python3"
  },
  "language_info": {
   "codemirror_mode": {
    "name": "ipython",
    "version": 3
   },
   "file_extension": ".py",
   "mimetype": "text/x-python",
   "name": "python",
   "nbconvert_exporter": "python",
   "pygments_lexer": "ipython3",
   "version": "3.8.3"
  }
 },
 "nbformat": 4,
 "nbformat_minor": 4
}
